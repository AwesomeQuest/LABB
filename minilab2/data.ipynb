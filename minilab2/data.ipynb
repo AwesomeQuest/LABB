{
 "cells": [
  {
   "cell_type": "code",
   "execution_count": 1,
   "metadata": {},
   "outputs": [],
   "source": [
    "using Statistics, CSV, DataFramesMeta, LinearAlgebra\n",
    "using Plots\n",
    "using Optim, EasyFit\n",
    "\n",
    "using RemoteREPL\n",
    "@async serve_repl()"
   ]
  },
  {
   "cell_type": "code",
   "execution_count": null,
   "metadata": {},
   "outputs": [],
   "source": [
    "kristmass = 343\n",
    "appmass = 544\n",
    "\n",
    "xs = masses = [\n",
    "    0,\n",
    "    kristmass,\n",
    "    2kristmass,\n",
    "    3kristmass,\n",
    "    4kristmass,\n",
    "    4kristmass + appmass,\n",
    "    3kristmass + appmass,\n",
    "    2kristmass + appmass,\n",
    "    kristmass + appmass,\n",
    "    appmass,\n",
    "    0\n",
    "]\n",
    "\n",
    "data = CSV.read(\"data00.csv\", DataFrame)\n",
    "scatter(masses,data[:,2])\n",
    "\n",
    "\n",
    "strs = [string(\"Data0\",i,\".csv\") for i in 0:4]\n",
    "dataarr = CSV.read.(strs, DataFrame)\n",
    "ys = [dataarr[i][:,2] for i in eachindex(dataarr)]; ys=hcat(ys...);\n",
    "β_1 = cov(xs,ys) ./ var(xs) |> mean\n",
    "β_0 = mean(ys) - β_1*mean(xs)\n",
    "\n",
    "scatter(xs,ys, m=:xcross, legend=:none, \n",
    "    xlabel = \"True weight [gf]\",\n",
    "    ylabel = \"Output Voltage [mV]\"\n",
    ")\n",
    "plot!(xs, (xs*β_1 .+ β_0))"
   ]
  },
  {
   "cell_type": "code",
   "execution_count": null,
   "metadata": {},
   "outputs": [],
   "source": [
    "δ = ys .- (xs*β_1 .+ β_0)\n",
    "# δmean = vcat(sum(δ[1:10,:] + δ[end:-1:12,:],dims=2)/2size(δ)[2], mean(δ[11,:]))\n",
    "δmean = mean(δ, dims=2)\n",
    "δxs = xs\n",
    "δfit = fitlinear(δxs, δmean)\n",
    "\n",
    "scatter(δxs, δmean)\n",
    "plot!(δfit.x,δfit.y)"
   ]
  },
  {
   "cell_type": "code",
   "execution_count": null,
   "metadata": {},
   "outputs": [],
   "source": [
    "Lmax(y,y_hat) = norm(y-y_hat,Inf)\n",
    "f(x) = Lmax(δmean, δxs*x[1] .+ x[2])\n",
    "opt = optimize(f,[δfit.a, δfit.b])\n",
    "Lfit = Optim.minimizer(opt)\n",
    "L = Optim.minimum(opt)\n",
    "\n",
    "scatter(δxs, δmean)\n",
    "plot!(δxs, δxs*Lfit[1] .+ Lfit[2])"
   ]
  },
  {
   "cell_type": "code",
   "execution_count": null,
   "metadata": {},
   "outputs": [],
   "source": [
    "tβ_1 = 1/β_1\n",
    "tβ_0 = β_0/tβ_1\n",
    "tβ_1,tβ_0\n",
    "β_1 + β_0, 506\n",
    "# tβ_1, tβ_0"
   ]
  },
  {
   "cell_type": "code",
   "execution_count": null,
   "metadata": {},
   "outputs": [],
   "source": [
    "plot(xs, (xs*β_1 .+ β_0), \n",
    "    legend =:none,\n",
    "    xlabel = \"True weight [gf]\",\n",
    "    ylabel = \"Output Voltage [mV]\"\n",
    ")"
   ]
  }
 ],
 "metadata": {
  "kernelspec": {
   "display_name": "Julia 1.9.3",
   "language": "julia",
   "name": "julia-1.9"
  },
  "language_info": {
   "file_extension": ".jl",
   "mimetype": "application/julia",
   "name": "julia",
   "version": "1.9.3"
  }
 },
 "nbformat": 4,
 "nbformat_minor": 2
}
