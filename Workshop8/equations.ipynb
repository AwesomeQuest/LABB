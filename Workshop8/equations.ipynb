{
 "cells": [
  {
   "cell_type": "code",
   "execution_count": 7,
   "metadata": {},
   "outputs": [
    {
     "data": {
      "text/plain": [
       "(L\"\\begin{equation}\n",
       "\\frac{1}{c_{p} \\cdot \\left(  - T_{1} + T_{2} \\right)}\n",
       "\\end{equation}\n",
       "\", L\"\\begin{equation}\n",
       "\\frac{Q}{c_{p} \\cdot \\left(  - T_{1} + T_{2} \\right)^{2}}\n",
       "\\end{equation}\n",
       "\", L\"\\begin{equation}\n",
       "\\frac{ - Q}{c_{p} \\cdot \\left(  - T_{1} + T_{2} \\right)^{2}}\n",
       "\\end{equation}\n",
       "\")"
      ]
     },
     "execution_count": 7,
     "metadata": {},
     "output_type": "execute_result"
    }
   ],
   "source": [
    "using SymPy, Latexify\n",
    "using Optim\n",
    "varis = @vars Q T_1 T_2\n",
    "@vars c_p\n",
    "m = Q/c_p/(T_2-T_1)\n",
    "diffs = diff.(m,varis)\n",
    "strs = latexify.(diffs, env=:eq)"
   ]
  },
  {
   "cell_type": "code",
   "execution_count": 8,
   "metadata": {},
   "outputs": [
    {
     "data": {
      "text/latex": [
       "\\begin{equation}\n",
       "\\frac{1}{c_{p} \\cdot \\left(  - T_{1} + T_{2} \\right)}\n",
       "\\end{equation}\n"
      ],
      "text/plain": [
       "L\"\\begin{equation}\n",
       "\\frac{1}{c_{p} \\cdot \\left(  - T_{1} + T_{2} \\right)}\n",
       "\\end{equation}\n",
       "\""
      ]
     },
     "execution_count": 8,
     "metadata": {},
     "output_type": "execute_result"
    }
   ],
   "source": [
    "strs[1]"
   ]
  },
  {
   "cell_type": "code",
   "execution_count": 9,
   "metadata": {},
   "outputs": [
    {
     "data": {
      "text/latex": [
       "\\begin{equation}\n",
       "\\frac{Q}{c_{p} \\cdot \\left(  - T_{1} + T_{2} \\right)^{2}}\n",
       "\\end{equation}\n"
      ],
      "text/plain": [
       "L\"\\begin{equation}\n",
       "\\frac{Q}{c_{p} \\cdot \\left(  - T_{1} + T_{2} \\right)^{2}}\n",
       "\\end{equation}\n",
       "\""
      ]
     },
     "execution_count": 9,
     "metadata": {},
     "output_type": "execute_result"
    }
   ],
   "source": [
    "strs[2]"
   ]
  },
  {
   "cell_type": "code",
   "execution_count": 10,
   "metadata": {},
   "outputs": [
    {
     "data": {
      "text/latex": [
       "\\begin{equation}\n",
       "\\frac{ - Q}{c_{p} \\cdot \\left(  - T_{1} + T_{2} \\right)^{2}}\n",
       "\\end{equation}\n"
      ],
      "text/plain": [
       "L\"\\begin{equation}\n",
       "\\frac{ - Q}{c_{p} \\cdot \\left(  - T_{1} + T_{2} \\right)^{2}}\n",
       "\\end{equation}\n",
       "\""
      ]
     },
     "execution_count": 10,
     "metadata": {},
     "output_type": "execute_result"
    }
   ],
   "source": [
    "strs[3]"
   ]
  },
  {
   "cell_type": "code",
   "execution_count": 11,
   "metadata": {},
   "outputs": [
    {
     "data": {
      "text/latex": [
       "\\begin{equation}\n",
       "\\frac{w_{T\\_1}^{2}}{\\left( T_{1} - T_{2} \\right)^{2}} + \\frac{w_{T\\_2}^{2}}{\\left( T_{1} - T_{2} \\right)^{2}} + \\frac{w_{Q}^{2}}{Q^{2}}\n",
       "\\end{equation}\n"
      ],
      "text/plain": [
       "L\"\\begin{equation}\n",
       "\\frac{w_{T\\_1}^{2}}{\\left( T_{1} - T_{2} \\right)^{2}} + \\frac{w_{T\\_2}^{2}}{\\left( T_{1} - T_{2} \\right)^{2}} + \\frac{w_{Q}^{2}}{Q^{2}}\n",
       "\\end{equation}\n",
       "\""
      ]
     },
     "execution_count": 11,
     "metadata": {},
     "output_type": "execute_result"
    }
   ],
   "source": [
    "w = Sym[string(\"w_\",i) for i in varis]\n",
    "w_m = √sum(diffs .^2 .* w .^2)\n",
    "latexify(w_m^2/m^2 |> simplify,env=:eq)"
   ]
  },
  {
   "cell_type": "code",
   "execution_count": 12,
   "metadata": {},
   "outputs": [
    {
     "ename": "LoadError",
     "evalue": "UndefVarError: `w_T_1` not defined",
     "output_type": "error",
     "traceback": [
      "UndefVarError: `w_T_1` not defined",
      "",
      "Stacktrace:",
      " [1] top-level scope",
      "   @ In[12]:1"
     ]
    }
   ],
   "source": [
    "convdict = Dict(\n",
    "    T_1=>0+5463/20, \n",
    "    T_2=>100+5463/20, \n",
    "    Q=>5000, \n",
    "    w_T_1=> 2+5463/20, \n",
    "    w_T_2=> 2+5463/20,\n",
    "    w_Q=> 3,\n",
    "    c_p => 4200,\n",
    ")\n",
    "UMF = sqrt.([i(convdict) for i in ((w_m^2/m^2 |> simplify).coeff.(w.^2) .* varis.^2)])"
   ]
  },
  {
   "cell_type": "code",
   "execution_count": null,
   "metadata": {},
   "outputs": [
    {
     "ename": "UndefVarError",
     "evalue": "UndefVarError: `convdict` not defined",
     "output_type": "error",
     "traceback": [
      "UndefVarError: `convdict` not defined\n",
      "\n",
      "Stacktrace:\n",
      " [1] top-level scope\n",
      "   @ c:\\Users\\torfi\\Documents\\Skoli\\H2023\\LABB\\Workshop8\\equations.ipynb:1"
     ]
    }
   ],
   "source": [
    "(w_m^2/m^2)(convdict)"
   ]
  },
  {
   "cell_type": "code",
   "execution_count": null,
   "metadata": {},
   "outputs": [
    {
     "data": {
      "text/latex": [
       "\\begin{equation}\n",
       "\\frac{w_{x}^{2}}{x^{2}} + \\frac{w_{\\varepsilon}^{2}}{\\varepsilon^{2}} + \\frac{4 \\cdot w_{h}^{2}}{h^{2}} + \\frac{w_{b}^{2}}{b^{2}} + \\frac{w_{P}^{2}}{P^{2}}\n",
       "\\end{equation}\n"
      ],
      "text/plain": [
       "L\"\\begin{equation}\n",
       "\\frac{w_{x}^{2}}{x^{2}} + \\frac{w_{\\varepsilon}^{2}}{\\varepsilon^{2}} + \\frac{4 \\cdot w_{h}^{2}}{h^{2}} + \\frac{w_{b}^{2}}{b^{2}} + \\frac{w_{P}^{2}}{P^{2}}\n",
       "\\end{equation}\n",
       "\""
      ]
     },
     "metadata": {},
     "output_type": "display_data"
    }
   ],
   "source": [
    "varis = @vars P x ε b h E\n",
    "E = 6P*x/ε/b/h^2\n",
    "diffs = diff.(E,varis)\n",
    "w = Sym[string(\"w_\",i) for i in varis]\n",
    "@vars w_rand\n",
    "w_m = √(sum(diffs .^2 .* w .^2))\n",
    "(relE = w_m^2/E^2 |> simplify )|> x->latexify(x,env=:eq)"
   ]
  },
  {
   "cell_type": "code",
   "execution_count": null,
   "metadata": {},
   "outputs": [
    {
     "data": {
      "text/latex": [
       "$\\left[ \\begin{array}{r}-0.0166666666666667\\\\0.0166666666666667\\end{array} \\right]$\n"
      ],
      "text/plain": [
       "2-element Vector{Sym}:\n",
       " -0.0166666666666667\n",
       "  0.0166666666666667"
      ]
     },
     "metadata": {},
     "output_type": "display_data"
    }
   ],
   "source": [
    "@vars w_i\n",
    "(relE((w ./ varis .=> w_i)...) +w_i^2 ~ 0.05^2) |> solve"
   ]
  },
  {
   "cell_type": "code",
   "execution_count": null,
   "metadata": {},
   "outputs": [
    {
     "data": {
      "text/latex": [
       "\\begin{equation}\n",
       "\\left[\n",
       "\\begin{array}{c}\n",
       "x \\cdot e^{p\\left[2\\right] \\cdot x \\cdot \\cos\\left( p\\left[3\\right] \\cdot x \\right)} \\cdot \\cos\\left( p\\left[4\\right] \\cdot x \\right) \\\\\n",
       "p\\left[1\\right] \\cdot x^{2} \\cdot e^{p\\left[2\\right] \\cdot x \\cdot \\cos\\left( p\\left[3\\right] \\cdot x \\right)} \\cdot \\cos\\left( p\\left[4\\right] \\cdot x \\right) \\cdot \\cos\\left( p\\left[3\\right] \\cdot x \\right) \\\\\n",
       "\\left(  - p\\left[1\\right] \\right) \\cdot p\\left[2\\right] \\cdot x^{3} \\cdot e^{p\\left[2\\right] \\cdot x \\cdot \\cos\\left( p\\left[3\\right] \\cdot x \\right)} \\cdot \\sin\\left( p\\left[3\\right] \\cdot x \\right) \\cdot \\cos\\left( p\\left[4\\right] \\cdot x \\right) \\\\\n",
       "\\left(  - p\\left[1\\right] \\right) \\cdot x^{2} \\cdot e^{p\\left[2\\right] \\cdot x \\cdot \\cos\\left( p\\left[3\\right] \\cdot x \\right)} \\cdot \\sin\\left( p\\left[4\\right] \\cdot x \\right) \\\\\n",
       "1 \\\\\n",
       "\\end{array}\n",
       "\\right]\n",
       "\\end{equation}\n"
      ],
      "text/plain": [
       "\"\\\\begin{equation}\\n\\\\left[\\n\\\\begin{array}{c}\\nx \\\\cdot e^{p\\\\left[2\\\\right] \\\\cdot x \\\\cdot \\\\cos\\\\left( p\\\\left[3\\\\right] \\\\cdot x \\\\right)} \\\\cdot \\\\cos\\\\left( p\\\\left[4\\\\right] \\\\cdot x \\\\right) \\\\\\\\\\np\\\\left[1\\\\right] \\\\cdot x^{2} \\\\cdot e^{p\\\\left[2\\\\right] \\\\cdot x \\\\cdot \\\\cos\\\\left( p\\\\left[3\\\\right]\" ⋯ 322 bytes ⋯ \"ot \\\\cos\\\\left( p\\\\left[4\\\\right] \\\\cdot x \\\\right) \\\\\\\\\\n\\\\left(  - p\\\\left[1\\\\right] \\\\right) \\\\cdot x^{2} \\\\cdot e^{p\\\\left[2\\\\right] \\\\cdot x \\\\cdot \\\\cos\\\\left( p\\\\left[3\\\\right] \\\\cdot x \\\\right)} \\\\cdot \\\\sin\\\\left( p\\\\left[4\\\\right] \\\\cdot x \\\\right) \\\\\\\\\\n1 \\\\\\\\\\n\\\\end{array}\\n\\\\right]\\n\\\\end{equation}\\n\""
      ]
     },
     "metadata": {},
     "output_type": "display_data"
    }
   ],
   "source": [
    "p = Sym[\"p_$i\" for i in 1:5]\n",
    "@vars x\n",
    "# weird = p[1]*x*exp(p[2]*x*cos(p[3]*x))*cos(p[4]*x) + p[5]\n",
    "latexify(:([\n",
    "        x * exp(p[2] * x * cos(p[3] * x)) * cos(p[4] * x),\n",
    "        p[1] * (x^2) * exp(p[2] * x * cos(p[3] * x)) * cos(p[4] * x) * cos(p[3] * x),\n",
    "        -p[1] * p[2] * (x^3) * exp(p[2] * x * cos(p[3] * x)) * sin(p[3] * x) * cos(p[4] * x),\n",
    "        -p[1] * (x^2) * exp(p[2] * x * cos(p[3] * x)) * sin(p[4] * x),\n",
    "        1\n",
    "    ]), env=:eq)"
   ]
  },
  {
   "cell_type": "markdown",
   "metadata": {},
   "source": [
    "\\begin{equation}\n",
    "\\left[\n",
    "\\begin{array}{cc}\n",
    "x e^{p_2 x \\cos\\left( p_3 x \\right)} \\cos\\left( p_4 x \\right) & 2 \\left( p_5 + p_1 x e^{p_2 x \\cos\\left( p_3 x \\right)} \\cos\\left( p_4 x \\right) \\right) x e^{p_2 x \\cos\\left( p_3 x \\right)} \\cos\\left( p_4 x \\right) \\\\\n",
    "x^{2} p_1 e^{p_2 x \\cos\\left( p_3 x \\right)} \\cos\\left( p_4 x \\right) \\cos\\left( p_3 x \\right) & 2 x^{2} p_1 \\left( p_5 + p_1 x e^{p_2 x \\cos\\left( p_3 x \\right)} \\cos\\left( p_4 x \\right) \\right) e^{p_2 x \\cos\\left( p_3 x \\right)} \\cos\\left( p_4 x \\right) \\cos\\left( p_3 x \\right) \\\\\n",
    " - x^{3} p_1 p_2 e^{p_2 x \\cos\\left( p_3 x \\right)} \\sin\\left( p_3 x \\right) \\cos\\left( p_4 x \\right) &  - 2 x^{3} p_1 \\left( p_5 + p_1 x e^{p_2 x \\cos\\left( p_3 x \\right)} \\cos\\left( p_4 x \\right) \\right) p_2 e^{p_2 x \\cos\\left( p_3 x \\right)} \\sin\\left( p_3 x \\right) \\cos\\left( p_4 x \\right) \\\\\n",
    " - x^{2} p_1 e^{p_2 x \\cos\\left( p_3 x \\right)} \\sin\\left( p_4 x \\right) &  - 2 x^{2} p_1 \\left( p_5 + p_1 x e^{p_2 x \\cos\\left( p_3 x \\right)} \\cos\\left( p_4 x \\right) \\right) e^{p_2 x \\cos\\left( p_3 x \\right)} \\sin\\left( p_4 x \\right) \\\\\n",
    "1 & 2 \\left( p_5 + p_1 x e^{p_2 x \\cos\\left( p_3 x \\right)} \\cos\\left( p_4 x \\right) \\right) \\\\\n",
    "\\end{array}\n",
    "\\right]\n",
    "\\end{equation}\n"
   ]
  },
  {
   "cell_type": "code",
   "execution_count": 13,
   "metadata": {},
   "outputs": [
    {
     "data": {
      "text/latex": [
       "$\\left[ \\begin{array}{r}h\\\\r_{1}\\\\r_{2}\\\\w_{h}\\\\w_{r 1}\\\\w_{r 2}\\end{array} \\right]$\n"
      ],
      "text/plain": [
       "6-element Vector{Sym}:\n",
       "     h\n",
       "   r₁\n",
       "   r₂\n",
       "   wₕ\n",
       " wᵣ ₁\n",
       " wᵣ ₂"
      ]
     },
     "execution_count": 13,
     "metadata": {},
     "output_type": "execute_result"
    }
   ],
   "source": [
    "varis = @vars T r_1 r_2 h ω\n",
    "@vars π μ\n",
    "M = T*(r_2-r_1)/(2π*r_1^3*h*ω)\n",
    "diffs = diff.(M,varis)\n",
    "# latexify(diffs, env=:eq)\n",
    "w = Sym[\"w_$i\" for i in varis]\n",
    "w_μr = √sum(x->x^2,diffs ./ M .* w) |> simplify\n",
    "UMF = sqrt.((w_μr^2).coeff.(w .^2)) .* varis\n",
    "w_r = w ./ varis  |> simplify\n",
    "UPC = @. (UMF * w_r / w_μr)^2\n",
    "diff.(w_μr^2 - w[1]^2/T^2 - w[5]^2/ω^2, [r_1, r_2, h]) |> free_symbols"
   ]
  },
  {
   "cell_type": "markdown",
   "metadata": {},
   "source": [
    "## Optim"
   ]
  },
  {
   "cell_type": "code",
   "execution_count": 14,
   "metadata": {},
   "outputs": [
    {
     "data": {
      "text/latex": [
       "$\\left[ \\begin{array}{r}w_{T}\\\\w_{r 1}\\\\w_{r 2}\\\\w_{h}\\\\w_{ω}\\end{array} \\right]$\n"
      ],
      "text/plain": [
       "5-element Vector{Sym}:\n",
       "   w_T\n",
       " wᵣ ₁\n",
       " wᵣ ₂\n",
       "   wₕ\n",
       "   w_ω"
      ]
     },
     "execution_count": 14,
     "metadata": {},
     "output_type": "execute_result"
    }
   ],
   "source": [
    "free_symbols(M)\n",
    "w\n",
    "# # (√sum(x->x^2,diffs .* w))\n",
    "# w_mes = [\n",
    "#     33.6,\n",
    "#     √(0.03^2+0.01^2),\n",
    "#     √(0.03^2+0.01^2),\n",
    "#     √(0.03^2+0.01^2),\n",
    "#     √(0.05^2+0.1^2)\n",
    "# ]\n",
    "# ((√sum(x->x^2,diffs .* w) |> simplify))((w .=> w_mes)...) |> free_symbols"
   ]
  },
  {
   "cell_type": "code",
   "execution_count": 15,
   "metadata": {},
   "outputs": [
    {
     "name": "stderr",
     "output_type": "stream",
     "text": [
      "\u001b[33m\u001b[1m┌ \u001b[22m\u001b[39m\u001b[33m\u001b[1mWarning: \u001b[22m\u001b[39mInitial position cannot be on the boundary of the box. Moving elements to the interior.\n",
      "\u001b[33m\u001b[1m│ \u001b[22m\u001b[39mElement indices affected: [1, 2, 3, 4, 5, 6]\n",
      "\u001b[33m\u001b[1m└ \u001b[22m\u001b[39m\u001b[90m@ Optim C:\\Users\\torfi\\.julia\\packages\\Optim\\V8ZEC\\src\\multivariate\\solvers\\constrained\\fminbox.jl:314\u001b[39m\n"
     ]
    },
    {
     "data": {
      "text/plain": [
       "6-element Vector{Float64}:\n",
       "   0.23520000000000002\n",
       "   0.030199999999999998\n",
       "   0.005050000000000001\n",
       "   0.010515\n",
       "   3.141592653589793\n",
       " 418.8790204786391"
      ]
     },
     "execution_count": 15,
     "metadata": {},
     "output_type": "execute_result"
    }
   ],
   "source": [
    "using Optim\n",
    "w_mes = [\n",
    "    .336,\n",
    "    √(0.03^2+0.01^2),\n",
    "    √(0.03^2+0.01^2),\n",
    "    √(0.03^2+0.01^2),\n",
    "    √(0.05^2+0.1^2)\n",
    "]\n",
    "M_n = lambdify(M)\n",
    "w_M = lambdify((√sum(x->x^2,diffs .* w) |> simplify)((w .=> w_mes)...))\n",
    "f(x) = w_M(x[1:6]...)\n",
    "\n",
    "lower = [0.01e-2*9.8,   0.03,   0.01/2,     0.021,      pi,     2pi ]\n",
    "lower = [2.4e-2*9.8,    0.03,   0.01/2,     0.021/2,    pi,     4000/60*2pi ]\n",
    "upper = [2.4e-2*9.8,    0.05,   0.02/2,     0.024/2,    pi,     4000/60*2pi ]\n",
    "opt = optimize(f,lower,upper, lower)\n",
    "M_n(opt.minimizer...)\n",
    "opt.minimizer"
   ]
  },
  {
   "cell_type": "code",
   "execution_count": 16,
   "metadata": {},
   "outputs": [
    {
     "name": "stderr",
     "output_type": "stream",
     "text": [
      "\u001b[33m\u001b[1m┌ \u001b[22m\u001b[39m\u001b[33m\u001b[1mWarning: \u001b[22m\u001b[39mInitial position cannot be on the boundary of the box. Moving elements to the interior.\n",
      "\u001b[33m\u001b[1m│ \u001b[22m\u001b[39mElement indices affected: [1, 2, 3]\n",
      "\u001b[33m\u001b[1m└ \u001b[22m\u001b[39m\u001b[90m@ Optim C:\\Users\\torfi\\.julia\\packages\\Optim\\V8ZEC\\src\\multivariate\\solvers\\constrained\\fminbox.jl:314\u001b[39m\n"
     ]
    },
    {
     "data": {
      "text/plain": [
       " * Status: success\n",
       "\n",
       " * Candidate solution\n",
       "    Final objective value:     2.084293e+01\n",
       "\n",
       " * Found with\n",
       "    Algorithm:     Fminbox with L-BFGS\n",
       "\n",
       " * Convergence measures\n",
       "    |x - x'|               = 6.67e-15 ≰ 0.0e+00\n",
       "    |x - x'|/|x'|          = 1.29e-13 ≰ 0.0e+00\n",
       "    |f(x) - f(x')|         = 0.00e+00 ≤ 0.0e+00\n",
       "    |f(x) - f(x')|/|f(x')| = 0.00e+00 ≤ 0.0e+00\n",
       "    |g(x)|                 = 1.49e-06 ≰ 1.0e-08\n",
       "\n",
       " * Work counters\n",
       "    Seconds run:   1  (vs limit Inf)\n",
       "    Iterations:    7\n",
       "    f(x) calls:    1350\n",
       "    ∇f(x) calls:   1350\n"
      ]
     },
     "execution_count": 16,
     "metadata": {},
     "output_type": "execute_result"
    }
   ],
   "source": [
    "f(r1, r2, h, w_r1, w_r2, w_h) = √(w_r2^2/(r1-r2)^2 + w_r1^2*(-2r1+3r2)^2/(r1*(r1-r2))^2 + w_h^2/h^2)\n",
    "g(x) = f(x..., √(0.03^2+0.01^2), √(0.03^2+0.01^2), √(0.03^2+0.01^2))\n",
    "function h!(H,x)\n",
    "    \n",
    "end\n",
    "\n",
    "lower = [0.01/2,    0.021/2,    0.03]\n",
    "upper = [0.02/2,    0.024/2,    0.05]\n",
    "opt = optimize(g, lower,upper, lower)\n",
    "opt"
   ]
  },
  {
   "cell_type": "code",
   "execution_count": 17,
   "metadata": {},
   "outputs": [
    {
     "data": {
      "text/latex": [
       "$\\left[ \\begin{array}{r}h\\\\r_{1}\\\\r_{2}\\\\w_{h}\\\\w_{r 1}\\\\w_{r 2}\\end{array} \\right]$\n"
      ],
      "text/plain": [
       "6-element Vector{Sym}:\n",
       "     h\n",
       "   r₁\n",
       "   r₂\n",
       "   wₕ\n",
       " wᵣ ₁\n",
       " wᵣ ₂"
      ]
     },
     "execution_count": 17,
     "metadata": {},
     "output_type": "execute_result"
    }
   ],
   "source": [
    "(diff.(w_μr^2 - w[1]^2/T^2 - w[5]^2/ω^2, [h, r_1, r_2, w[2:4]...])) |> free_symbols\n",
    "# dw_M(upper...)\n",
    "# w[2:4]"
   ]
  },
  {
   "cell_type": "code",
   "execution_count": 18,
   "metadata": {},
   "outputs": [
    {
     "name": "stderr",
     "output_type": "stream",
     "text": [
      "\u001b[33m\u001b[1m┌ \u001b[22m\u001b[39m\u001b[33m\u001b[1mWarning: \u001b[22m\u001b[39mInitial position cannot be on the boundary of the box. Moving elements to the interior.\n",
      "\u001b[33m\u001b[1m│ \u001b[22m\u001b[39mElement indices affected: [1, 2, 3]\n",
      "\u001b[33m\u001b[1m└ \u001b[22m\u001b[39m\u001b[90m@ Optim C:\\Users\\torfi\\.julia\\packages\\Optim\\V8ZEC\\src\\multivariate\\solvers\\constrained\\fminbox.jl:314\u001b[39m\n"
     ]
    },
    {
     "data": {
      "text/plain": [
       "3-element Vector{Float64}:\n",
       " 0.04999999999999999\n",
       " 0.007799998731808497\n",
       " 0.012999999999999998"
      ]
     },
     "execution_count": 18,
     "metadata": {},
     "output_type": "execute_result"
    }
   ],
   "source": [
    "w_M = lambdify(w_μr^2 - w[1]^2/T^2 - w[5]^2/ω^2)\n",
    "dw_M = lambdify(diff.(w_μr^2 - w[1]^2/T^2 - w[5]^2/ω^2, [h, r_1, r_2, w[2:4]...]) |> simplify)\n",
    "\n",
    "# dw_M([0.01/2, 0.021/2, 0.03,√(0.03^2+0.01^2), √(0.03^2+0.01^2), √(0.03^2+0.01^2)]...)\n",
    "\n",
    "f(x) = w_M(x...,√(0.03^2+0.01^2), √(0.03^2+0.01^2), √(0.03^2+0.01^2))\n",
    "# function g!(H,x)\n",
    "#     H = dw_M(x...)\n",
    "# end\n",
    "\n",
    "lower = [0.001, 0.002, 0.003]\n",
    "upper = [0.050, 0.012, 0.013]\n",
    "# x_0 = vcat(upper[1:3] - [0.001, 0.001,0.001], [√(0.03^2+0.01^2), √(0.03^2+0.01^2), √(0.03^2+0.01^2)])\n",
    "opt = optimize(f,lower, upper, upper)\n",
    "opt.minimizer\n",
    "\n",
    "# n = 10\n",
    "# x =  [range(lower[i], upper[i], n) for i in eachindex()]"
   ]
  },
  {
   "cell_type": "code",
   "execution_count": 19,
   "metadata": {},
   "outputs": [
    {
     "data": {
      "text/latex": [
       "$\\frac{w_{r 2}^{2}}{\\left(r_{1} - r_{2}\\right)^{2}} + \\frac{w_{r 1}^{2} \\left(- 2 r_{1} + 3 r_{2}\\right)^{2}}{r_{1}^{2} \\left(r_{1} - r_{2}\\right)^{2}} + \\frac{w_{h}^{2}}{h^{2}}$"
      ],
      "text/plain": [
       "      2          2               2     2\n",
       "  wᵣ ₂       wᵣ ₁ ⋅(-2⋅r₁ + 3⋅r₂)    wₕ \n",
       "────────── + ───────────────────── + ───\n",
       "         2         2          2        2\n",
       "(r₁ - r₂)        r₁ ⋅(r₁ - r₂)        h "
      ]
     },
     "execution_count": 19,
     "metadata": {},
     "output_type": "execute_result"
    }
   ],
   "source": [
    "w_μr^2 - w[1]^2/T^2 - w[5]^2/ω^2"
   ]
  },
  {
   "cell_type": "markdown",
   "metadata": {},
   "source": [
    "# azdxcjikmloæ"
   ]
  },
  {
   "cell_type": "code",
   "execution_count": 85,
   "metadata": {},
   "outputs": [
    {
     "data": {
      "text/latex": [
       "$\\left[ \\begin{array}{r}0.0795971473763949\\\\0.48681950260941\\\\0.353765099450643\\\\0.000221103187156653\\\\0.0795971473763949\\end{array} \\right]$\n"
      ],
      "text/plain": [
       "5-element Vector{Sym}:\n",
       "   0.0795971473763949\n",
       "    0.486819502609410\n",
       "    0.353765099450643\n",
       " 0.000221103187156653\n",
       "   0.0795971473763949"
      ]
     },
     "execution_count": 85,
     "metadata": {},
     "output_type": "execute_result"
    }
   ],
   "source": [
    "w_mes = [\n",
    "    1e-2*9.8*0.01,\n",
    "    √(0.03e-3^2+0.01e-3^2),\n",
    "    √(0.03e-3^2+0.01e-3^2),\n",
    "    √(0.03e-3^2+0.01e-3^2),\n",
    "    0.12\n",
    "]\n",
    "masterDict = Dict(\n",
    "    T       => 1e-2*9.8,\n",
    "    h       => 0.06,\n",
    "    r_1     => 0.026,\n",
    "    r_2     => 0.0275,\n",
    "    ω       => 12,\n",
    "    (w     .=> w_mes )...,\n",
    "    π       => 3.1415926535897\n",
    ")\n",
    "# RSSC = UMF ./ varis .* w\n",
    "# [i(masterDict) for i in UMF]\n",
    "[i(masterDict) for i in UPC]\n",
    "# [i(masterDict) for i in w_r]\n",
    "# w_mes\n",
    "# [i(masterDict) for i in RSSC]\n",
    "# varis\n",
    "# M(masterDict)\n",
    "# (w_μr)(masterDict)\n",
    "# w_μr\n"
   ]
  }
 ],
 "metadata": {
  "kernelspec": {
   "display_name": "Julia 1.9.3",
   "language": "julia",
   "name": "julia-1.9"
  },
  "language_info": {
   "file_extension": ".jl",
   "mimetype": "application/julia",
   "name": "julia",
   "version": "1.9.3"
  }
 },
 "nbformat": 4,
 "nbformat_minor": 2
}
